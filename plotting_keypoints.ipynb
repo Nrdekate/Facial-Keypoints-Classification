{
 "cells": [
  {
   "cell_type": "code",
   "execution_count": 4,
   "metadata": {},
   "outputs": [
    {
     "name": "stdout",
     "output_type": "stream",
     "text": [
      "C:\\Users\\Nisha\\Desktop\\Face_keypoints_dataset\n"
     ]
    }
   ],
   "source": [
    "cd C:\\Users\\Nisha\\Desktop\\Face_keypoints_dataset"
   ]
  },
  {
   "cell_type": "code",
   "execution_count": 5,
   "metadata": {},
   "outputs": [],
   "source": [
    "#To perform multioperation\n",
    "import numpy as np\n",
    "#To invert the plot(origin must be on top for image)\n",
    "from numpy import zeros\n",
    "#To plotting library \n",
    "import matplotlib.pyplot as plt\n",
    "#To analysize data\n",
    "import pandas as pd\n",
    "#To display object\n",
    "from IPython.display import clear_output\n",
    "import os\n",
    "#To access cv\n",
    "#import cv2\n"
   ]
  },
  {
   "cell_type": "code",
   "execution_count": 10,
   "metadata": {},
   "outputs": [],
   "source": [
    "df = pd.read_csv('./Dataset/training.csv')\n",
    "\n",
    "keypoint_cols = list(df.columns)[:-1]\n",
    "xy = df.iloc[0][keypoint_cols].values.reshape((15, 2))\n"
   ]
  },
  {
   "cell_type": "code",
   "execution_count": 11,
   "metadata": {},
   "outputs": [
    {
     "data": {
      "image/png": "[encoded data removed]",
      "text/plain": [
       "<Figure size 432x288 with 1 Axes>"
      ]
     },
     "metadata": {
      "needs_background": "light"
     },
     "output_type": "display_data"
    }
   ],
   "source": [
    "\n",
    "#To invert the plot\n",
    "plt.gca().invert_yaxis()\n",
    "\n",
    "#To show the image\n",
    "plt.plot(xy[:, 0], xy[:,1], 'ro')\n",
    "plt.show()\n"
   ]
  },
  {
   "cell_type": "code",
   "execution_count": null,
   "metadata": {},
   "outputs": [],
   "source": []
  }
 ],
 "metadata": {
  "kernelspec": {
   "display_name": "Python 3",
   "language": "python",
   "name": "python3"
  },
  "language_info": {
   "codemirror_mode": {
    "name": "ipython",
    "version": 3
   },
   "file_extension": ".py",
   "mimetype": "text/x-python",
   "name": "python",
   "nbconvert_exporter": "python",
   "pygments_lexer": "ipython3",
   "version": "3.6.5"
  }
 },
 "nbformat": 4,
 "nbformat_minor": 2
}
