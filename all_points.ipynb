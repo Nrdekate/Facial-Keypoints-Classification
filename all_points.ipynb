{
 "cells": [
  {
   "cell_type": "code",
   "execution_count": 1,
   "metadata": {},
   "outputs": [
    {
     "name": "stdout",
     "output_type": "stream",
     "text": [
      "C:\\Users\\Nisha\\Desktop\\Face_keypoints_dataset\n"
     ]
    }
   ],
   "source": [
    "cd C:\\Users\\Nisha\\Desktop\\Face_keypoints_dataset"
   ]
  },
  {
   "cell_type": "code",
   "execution_count": 2,
   "metadata": {},
   "outputs": [],
   "source": [
    "#To perform multioperation\n",
    "import numpy as np\n",
    "#To invert the plot(origin must be on top for image)\n",
    "from numpy import zeros\n",
    "#To plotting library \n",
    "import matplotlib.pyplot as plt\n",
    "#To analysize data\n",
    "import pandas as pd\n",
    "#To display object\n",
    "from IPython.display import clear_output\n",
    "import os\n",
    "#To access cv\n",
    "import cv2\n"
   ]
  },
  {
   "cell_type": "code",
   "execution_count": 6,
   "metadata": {},
   "outputs": [
    {
     "name": "stdout",
     "output_type": "stream",
     "text": [
      "['64.3329361702', '34.9700765957', '29.949276595700002', '33.4487148936', '58.856170212799995', '35.2743489362', '70.7227234043', '36.1871659574', '36.034723404299996', '34.3615319149', '24.472510638299998', '33.1444425532', '53.9874042553', '28.2759489362', '78.634212766', '30.405923404299998', '42.7288510638', '26.1460425532', '16.8653617021', '27.058859574499998', '48.2062978723', '55.6609361702', '56.4214468085', '76.352', '35.122382978699996', '76.0476595745', '46.68459574470001', '70.2665531915', '45.467914893599996', '85.48017021279999']\n"
     ]
    }
   ],
   "source": [
    "data = pd.read_csv('./Dataset/training.csv')\n",
    "data.head()\n",
    "\n",
    "point_labels = list(data.columns[:-1])\n",
    "\n",
    "print(point_labels)\n"
   ]
  },
  {
   "cell_type": "code",
   "execution_count": 7,
   "metadata": {},
   "outputs": [],
   "source": [
    "points = data.iloc[:,:-1]\n",
    "\n",
    "points = points.dropna()\n"
   ]
  },
  {
   "cell_type": "code",
   "execution_count": 8,
   "metadata": {},
   "outputs": [],
   "source": [
    "image = np.ones((96,96,3),dtype = np.uint8)\n",
    "image.fill(255)\n",
    "\n",
    "face_points = {\n",
    "    \"left_eye_center\":[(66.033,34.970077),(64.33,34.909642),(65.05,37.261774),(65.22,39.621261),\n",
    "                       (66.72,39.968748),(69.68,34.290040),(64.13,39.413452),( 67.46,34.755200),\n",
    "                       (65.80288,36.740308),(64.12,34.342642) ] ,\n",
    "    \"right_eye_center\":[(30.227008,36.421678),(29.949277,33.448715),\n",
    "                        (30.903789,34.909642),(32.023096,37.261774),\n",
    "                        (32.244810,38.042032)],\n",
    "    \"nose_tip\":[(44.420571,57.066803),(48.206298,55.660936),\n",
    "                (47.557263,53.538947),(51.885078,54.166539),(43.299534,64.889521)],\n",
    "    \"mouth_center\":[(43.312602,72.935459),(46.684596,70.266553),(47.274947,70.191789),\n",
    "                    (50.303165,70.091687),(44.962748,73.707387)],\n",
    "    \"color\":[('red'),('green'),('blue')]}\n",
    "\n"
   ]
  },
  {
   "cell_type": "code",
   "execution_count": 9,
   "metadata": {},
   "outputs": [
    {
     "data": {
      "image/png": "[encoded data removed]",
      "text/plain": [
       "<Figure size 432x288 with 1 Axes>"
      ]
     },
     "metadata": {
      "needs_background": "light"
     },
     "output_type": "display_data"
    }
   ],
   "source": [
    "x,y = face_points.keys(),face_points.values()\n",
    "\n",
    "for pts in points.values:\n",
    "    pts = pts.reshape(-1,2).tolist()\n",
    "    for (x,y) in pts: \n",
    "        x = int(x)\n",
    "        y = int(y)\n",
    "        cv2.circle(image,(x,y), 2,(x,y),-1)\n",
    "plt.imshow(image)\n",
    "plt.show()\n"
   ]
  },
  {
   "cell_type": "code",
   "execution_count": null,
   "metadata": {},
   "outputs": [],
   "source": []
  }
 ],
 "metadata": {
  "kernelspec": {
   "display_name": "Python 3",
   "language": "python",
   "name": "python3"
  },
  "language_info": {
   "codemirror_mode": {
    "name": "ipython",
    "version": 3
   },
   "file_extension": ".py",
   "mimetype": "text/x-python",
   "name": "python",
   "nbconvert_exporter": "python",
   "pygments_lexer": "ipython3",
   "version": "3.6.5"
  }
 },
 "nbformat": 4,
 "nbformat_minor": 2
}
